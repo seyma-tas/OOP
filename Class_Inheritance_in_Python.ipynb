{
 "cells": [
  {
   "cell_type": "code",
   "execution_count": 1,
   "metadata": {
    "ExecuteTime": {
     "end_time": "2021-02-15T04:43:26.269890Z",
     "start_time": "2021-02-15T04:43:26.267194Z"
    }
   },
   "outputs": [],
   "source": [
    "class Data_Scientist:\n",
    "    pass\n",
    "         \n",
    "class Data_Analyst:\n",
    "    pass\n",
    "        \n",
    "class Data_Engineer:\n",
    "    pass"
   ]
  },
  {
   "cell_type": "code",
   "execution_count": 2,
   "metadata": {
    "ExecuteTime": {
     "end_time": "2021-02-15T04:43:26.277790Z",
     "start_time": "2021-02-15T04:43:26.271883Z"
    }
   },
   "outputs": [],
   "source": [
    "class Data_Scientist:\n",
    "    def __init__(self, name, SQL):\n",
    "        self.name = name\n",
    "        self.SQL = SQL\n",
    "    def knows_maths_stats(self):\n",
    "        return True\n",
    "    def knows_programming(self):\n",
    "        return True\n",
    "               \n",
    "class Data_Analyst:\n",
    "    def __init__(self, name, SQL):\n",
    "        self.name = name\n",
    "        self.SQL = SQL\n",
    "    def knows_maths_stats(self):\n",
    "        return True\n",
    "    def knows_programming(self):\n",
    "        return True  \n",
    "        \n",
    "class Data_Engineer:\n",
    "    def __init__(self, name):\n",
    "        self.name = name\n",
    "        self.SQL = SQL\n",
    "    def knows_maths_stats(self):\n",
    "        return True\n",
    "    def knows_programming(self):\n",
    "        return True     "
   ]
  },
  {
   "cell_type": "markdown",
   "metadata": {},
   "source": [
    "### Parent Class"
   ]
  },
  {
   "cell_type": "code",
   "execution_count": 3,
   "metadata": {
    "ExecuteTime": {
     "end_time": "2021-02-15T04:43:26.283557Z",
     "start_time": "2021-02-15T04:43:26.279544Z"
    }
   },
   "outputs": [],
   "source": [
    "class Data_Professional:\n",
    "    def __init__(self, name, SQL):\n",
    "        self.name = name\n",
    "        self.SQL = SQL\n",
    "    def knows_maths_stats(self):\n",
    "        return True\n",
    "    def knows_programming(self):\n",
    "        return True"
   ]
  },
  {
   "cell_type": "markdown",
   "metadata": {},
   "source": [
    "### Child Classes"
   ]
  },
  {
   "cell_type": "code",
   "execution_count": 4,
   "metadata": {
    "ExecuteTime": {
     "end_time": "2021-02-15T04:43:26.291901Z",
     "start_time": "2021-02-15T04:43:26.287510Z"
    }
   },
   "outputs": [],
   "source": [
    "class Data_Scientist(Data_Professional):\n",
    "    def __init__(self, name, SQL):\n",
    "        super().__init__(name, SQL)       \n",
    "class Data_Analyst(Data_Professional):\n",
    "    def __init__(self, name, SQL):\n",
    "        super().__init__(name, SQL)\n",
    "class Data_Engineer(Data_Professional):\n",
    "    def __init__(self, name, SQL):\n",
    "        super().__init__(name, SQL)"
   ]
  },
  {
   "cell_type": "code",
   "execution_count": 6,
   "metadata": {
    "ExecuteTime": {
     "end_time": "2021-02-15T04:43:26.304945Z",
     "start_time": "2021-02-15T04:43:26.300776Z"
    }
   },
   "outputs": [
    {
     "name": "stdout",
     "output_type": "stream",
     "text": [
      "John Smith 9 True True\n"
     ]
    }
   ],
   "source": [
    "dt_sci = Data_Scientist(\"John Smith\", 9)\n",
    "print(dt_sci.name, dt_sci.SQL,dt_sci.knows_maths_stats(), dt_sci.knows_programming )\n"
   ]
  },
  {
   "cell_type": "code",
   "execution_count": 7,
   "metadata": {
    "ExecuteTime": {
     "end_time": "2021-02-15T04:43:26.310666Z",
     "start_time": "2021-02-15T04:43:26.306611Z"
    },
    "scrolled": true
   },
   "outputs": [
    {
     "name": "stdout",
     "output_type": "stream",
     "text": [
      "Anash Kumar 7 True False\n"
     ]
    }
   ],
   "source": [
    "dt_an = Data_Analyst(\"Anash Kumar\", 7)\n",
    "print(dt_an.name, dt_an.SQL,dt_an.knows_maths_stats(), dt_.knows_programming() )"
   ]
  },
  {
   "cell_type": "markdown",
   "metadata": {},
   "source": [
    "### An empty class has the properties of its parent class"
   ]
  },
  {
   "cell_type": "code",
   "execution_count": 8,
   "metadata": {
    "ExecuteTime": {
     "end_time": "2021-02-15T04:43:26.314488Z",
     "start_time": "2021-02-15T04:43:26.312120Z"
    }
   },
   "outputs": [],
   "source": [
    "class Data_Engineer(Data_Professional):\n",
    "    pass"
   ]
  },
  {
   "cell_type": "code",
   "execution_count": 9,
   "metadata": {
    "ExecuteTime": {
     "end_time": "2021-02-15T04:43:26.318454Z",
     "start_time": "2021-02-15T04:43:26.316055Z"
    }
   },
   "outputs": [],
   "source": [
    "dt_en = Data_Engineer(\"Ahmed Shahin\", 9)"
   ]
  },
  {
   "cell_type": "code",
   "execution_count": 10,
   "metadata": {
    "ExecuteTime": {
     "end_time": "2021-02-15T04:43:26.323915Z",
     "start_time": "2021-02-15T04:43:26.320187Z"
    }
   },
   "outputs": [
    {
     "name": "stdout",
     "output_type": "stream",
     "text": [
      "Ahmed Shahin 9 True True\n"
     ]
    }
   ],
   "source": [
    "\n",
    "print(dt_en.name, dt_en.SQL, dt_en.knows_maths_stats(), dt_en.knows_programming() )"
   ]
  },
  {
   "cell_type": "markdown",
   "metadata": {},
   "source": [
    "### Overriding Classes"
   ]
  },
  {
   "cell_type": "code",
   "execution_count": 11,
   "metadata": {
    "ExecuteTime": {
     "end_time": "2021-02-15T04:43:26.329782Z",
     "start_time": "2021-02-15T04:43:26.326344Z"
    }
   },
   "outputs": [],
   "source": [
    "class Data_Analyst(Data_Professional):\n",
    "    def __init__(self, name, SQL):\n",
    "        super().__init__(name, SQL)\n",
    "    def knows_programming(self):\n",
    "        return False"
   ]
  },
  {
   "cell_type": "code",
   "execution_count": 12,
   "metadata": {
    "ExecuteTime": {
     "end_time": "2021-02-15T04:43:26.334820Z",
     "start_time": "2021-02-15T04:43:26.331309Z"
    }
   },
   "outputs": [
    {
     "name": "stdout",
     "output_type": "stream",
     "text": [
      "Anash Kumar 7 True False\n"
     ]
    }
   ],
   "source": [
    "dt_an = Data_Analyst(\"Anash Kumar\", 7)\n",
    "print(dt_an.name, dt_an.SQL, dt_an.knows_maths_stats(), dt_an.knows_algorithms() )"
   ]
  },
  {
   "cell_type": "markdown",
   "metadata": {},
   "source": [
    "#### Tableau"
   ]
  },
  {
   "cell_type": "code",
   "execution_count": 24,
   "metadata": {
    "ExecuteTime": {
     "end_time": "2021-02-15T05:00:47.677679Z",
     "start_time": "2021-02-15T05:00:47.673826Z"
    }
   },
   "outputs": [],
   "source": [
    "class Data_Analyst(Data_Professional):\n",
    "    def __init__(self, name, SQL, tableau):\n",
    "        Data_Professional.__init__(name, SQL)\n",
    "        self.tableau = tableau\n",
    "    def knows_algorithms(self):\n",
    "        return False"
   ]
  },
  {
   "cell_type": "code",
   "execution_count": 25,
   "metadata": {
    "ExecuteTime": {
     "end_time": "2021-02-15T05:00:48.356795Z",
     "start_time": "2021-02-15T05:00:48.346053Z"
    }
   },
   "outputs": [
    {
     "ename": "TypeError",
     "evalue": "__init__() missing 1 required positional argument: 'SQL'",
     "output_type": "error",
     "traceback": [
      "\u001b[0;31m---------------------------------------------------------------------------\u001b[0m",
      "\u001b[0;31mTypeError\u001b[0m                                 Traceback (most recent call last)",
      "\u001b[0;32m<ipython-input-25-768694f0b7ac>\u001b[0m in \u001b[0;36m<module>\u001b[0;34m\u001b[0m\n\u001b[0;32m----> 1\u001b[0;31m \u001b[0mdt_an\u001b[0m \u001b[0;34m=\u001b[0m \u001b[0mData_Analyst\u001b[0m\u001b[0;34m(\u001b[0m\u001b[0;34m\"Anash Kumar\"\u001b[0m\u001b[0;34m,\u001b[0m \u001b[0;36m7\u001b[0m\u001b[0;34m,\u001b[0m \u001b[0;36m9\u001b[0m\u001b[0;34m)\u001b[0m\u001b[0;34m\u001b[0m\u001b[0;34m\u001b[0m\u001b[0m\n\u001b[0m\u001b[1;32m      2\u001b[0m \u001b[0mprint\u001b[0m\u001b[0;34m(\u001b[0m\u001b[0mdt_an\u001b[0m\u001b[0;34m.\u001b[0m\u001b[0mname\u001b[0m\u001b[0;34m,\u001b[0m \u001b[0mdt_an\u001b[0m\u001b[0;34m.\u001b[0m\u001b[0mSQL\u001b[0m\u001b[0;34m,\u001b[0m \u001b[0mdt_an\u001b[0m\u001b[0;34m.\u001b[0m\u001b[0mknows_maths_stats\u001b[0m\u001b[0;34m(\u001b[0m\u001b[0;34m)\u001b[0m\u001b[0;34m,\u001b[0m \u001b[0mdt_an\u001b[0m\u001b[0;34m.\u001b[0m\u001b[0mknows_algorithms\u001b[0m\u001b[0;34m(\u001b[0m\u001b[0;34m)\u001b[0m \u001b[0;34m)\u001b[0m\u001b[0;34m\u001b[0m\u001b[0;34m\u001b[0m\u001b[0m\n",
      "\u001b[0;32m<ipython-input-24-baa0863a02c2>\u001b[0m in \u001b[0;36m__init__\u001b[0;34m(self, name, SQL, tableau)\u001b[0m\n\u001b[1;32m      1\u001b[0m \u001b[0;32mclass\u001b[0m \u001b[0mData_Analyst\u001b[0m\u001b[0;34m(\u001b[0m\u001b[0mData_Professional\u001b[0m\u001b[0;34m)\u001b[0m\u001b[0;34m:\u001b[0m\u001b[0;34m\u001b[0m\u001b[0;34m\u001b[0m\u001b[0m\n\u001b[1;32m      2\u001b[0m     \u001b[0;32mdef\u001b[0m \u001b[0m__init__\u001b[0m\u001b[0;34m(\u001b[0m\u001b[0mself\u001b[0m\u001b[0;34m,\u001b[0m \u001b[0mname\u001b[0m\u001b[0;34m,\u001b[0m \u001b[0mSQL\u001b[0m\u001b[0;34m,\u001b[0m \u001b[0mtableau\u001b[0m\u001b[0;34m)\u001b[0m\u001b[0;34m:\u001b[0m\u001b[0;34m\u001b[0m\u001b[0;34m\u001b[0m\u001b[0m\n\u001b[0;32m----> 3\u001b[0;31m         \u001b[0mData_Professional\u001b[0m\u001b[0;34m.\u001b[0m\u001b[0m__init__\u001b[0m\u001b[0;34m(\u001b[0m\u001b[0mname\u001b[0m\u001b[0;34m,\u001b[0m \u001b[0mSQL\u001b[0m\u001b[0;34m)\u001b[0m\u001b[0;34m\u001b[0m\u001b[0;34m\u001b[0m\u001b[0m\n\u001b[0m\u001b[1;32m      4\u001b[0m         \u001b[0mself\u001b[0m\u001b[0;34m.\u001b[0m\u001b[0mtableau\u001b[0m \u001b[0;34m=\u001b[0m \u001b[0mtableau\u001b[0m\u001b[0;34m\u001b[0m\u001b[0;34m\u001b[0m\u001b[0m\n\u001b[1;32m      5\u001b[0m     \u001b[0;32mdef\u001b[0m \u001b[0mknows_algorithms\u001b[0m\u001b[0;34m(\u001b[0m\u001b[0mself\u001b[0m\u001b[0;34m)\u001b[0m\u001b[0;34m:\u001b[0m\u001b[0;34m\u001b[0m\u001b[0;34m\u001b[0m\u001b[0m\n",
      "\u001b[0;31mTypeError\u001b[0m: __init__() missing 1 required positional argument: 'SQL'"
     ]
    }
   ],
   "source": [
    "dt_an = Data_Analyst(\"Anash Kumar\", 7, 9)\n",
    "print(dt_an.name, dt_an.SQL, dt_an.knows_maths_stats(), dt_an.knows_algorithms() )"
   ]
  },
  {
   "cell_type": "code",
   "execution_count": null,
   "metadata": {},
   "outputs": [],
   "source": []
  }
 ],
 "metadata": {
  "kernelspec": {
   "display_name": "Python 3",
   "language": "python",
   "name": "python3"
  },
  "language_info": {
   "codemirror_mode": {
    "name": "ipython",
    "version": 3
   },
   "file_extension": ".py",
   "mimetype": "text/x-python",
   "name": "python",
   "nbconvert_exporter": "python",
   "pygments_lexer": "ipython3",
   "version": "3.7.4"
  },
  "toc": {
   "base_numbering": 1,
   "nav_menu": {},
   "number_sections": true,
   "sideBar": true,
   "skip_h1_title": false,
   "title_cell": "Table of Contents",
   "title_sidebar": "Contents",
   "toc_cell": false,
   "toc_position": {},
   "toc_section_display": true,
   "toc_window_display": false
  },
  "varInspector": {
   "cols": {
    "lenName": 16,
    "lenType": 16,
    "lenVar": 40
   },
   "kernels_config": {
    "python": {
     "delete_cmd_postfix": "",
     "delete_cmd_prefix": "del ",
     "library": "var_list.py",
     "varRefreshCmd": "print(var_dic_list())"
    },
    "r": {
     "delete_cmd_postfix": ") ",
     "delete_cmd_prefix": "rm(",
     "library": "var_list.r",
     "varRefreshCmd": "cat(var_dic_list()) "
    }
   },
   "types_to_exclude": [
    "module",
    "function",
    "builtin_function_or_method",
    "instance",
    "_Feature"
   ],
   "window_display": true
  }
 },
 "nbformat": 4,
 "nbformat_minor": 2
}
